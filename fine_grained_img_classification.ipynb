{
  "nbformat": 4,
  "nbformat_minor": 0,
  "metadata": {
    "colab": {
      "name": "fine-grained-img-classification.ipynb",
      "provenance": [],
      "collapsed_sections": [],
      "toc_visible": true,
      "include_colab_link": true
    },
    "kernelspec": {
      "name": "python3",
      "display_name": "Python 3"
    }
  },
  "cells": [
    {
      "cell_type": "markdown",
      "metadata": {
        "id": "view-in-github",
        "colab_type": "text"
      },
      "source": [
        "<a href=\"https://colab.research.google.com/github/saivarshittha/fine-grained-image-classification/blob/main/fine_grained_img_classification.ipynb\" target=\"_parent\"><img src=\"https://colab.research.google.com/assets/colab-badge.svg\" alt=\"Open In Colab\"/></a>"
      ]
    },
    {
      "cell_type": "markdown",
      "metadata": {
        "id": "o05G6mTkw8uG"
      },
      "source": [
        "**Mounting on google drive**"
      ]
    },
    {
      "cell_type": "code",
      "metadata": {
        "id": "ufNAdPZj4_1I"
      },
      "source": [
        "from google.colab import drive\n",
        "drive.mount('/gdrive')\n",
        "%cd /gdrive\n",
        "!ls"
      ],
      "execution_count": null,
      "outputs": []
    },
    {
      "cell_type": "code",
      "metadata": {
        "id": "yuG5jeWl5N1J"
      },
      "source": [
        "%cd /gdrive/My\\ Drive"
      ],
      "execution_count": null,
      "outputs": []
    },
    {
      "cell_type": "code",
      "metadata": {
        "id": "34FSus6cezaj"
      },
      "source": [
        "!ls"
      ],
      "execution_count": null,
      "outputs": []
    },
    {
      "cell_type": "code",
      "metadata": {
        "id": "xLU_lyCt5x2T"
      },
      "source": [
        "# !tar -zxvf CUB_200_2011.tgz  (for downloading dataset,Mounting is better since it is a large dataset)"
      ],
      "execution_count": null,
      "outputs": []
    },
    {
      "cell_type": "code",
      "metadata": {
        "id": "EpqBKDxSClLG"
      },
      "source": [
        "batch_size = 28"
      ],
      "execution_count": null,
      "outputs": []
    },
    {
      "cell_type": "markdown",
      "metadata": {
        "id": "XBZfxOIrxSth"
      },
      "source": [
        "**Imports**"
      ]
    },
    {
      "cell_type": "code",
      "metadata": {
        "id": "ujnrBy98bk2h"
      },
      "source": [
        "import torch\n",
        "import torchvision\n",
        "import torchvision.transforms as transforms\n",
        "import torch.nn as nn\n",
        "import torch.nn.functional as F\n",
        "import os\n",
        "import pandas as pd\n",
        "from torchvision.datasets.folder import default_loader\n",
        "from torchvision.datasets.utils import download_url\n",
        "from torch.utils.data import Dataset,DataLoader\n",
        "from collections import OrderedDict"
      ],
      "execution_count": null,
      "outputs": []
    },
    {
      "cell_type": "markdown",
      "metadata": {
        "id": "sjZ6DcuY5B8J"
      },
      "source": [
        "Connecting to **GPU**"
      ]
    },
    {
      "cell_type": "code",
      "metadata": {
        "id": "Pffk_t1O5EV5"
      },
      "source": [
        "\n",
        "device = torch.device(\"cuda\" if torch.cuda.is_available() else \"cpu\")\n"
      ],
      "execution_count": null,
      "outputs": []
    },
    {
      "cell_type": "markdown",
      "metadata": {
        "id": "MRXIz9mO5T1S"
      },
      "source": [
        "# Dataset Class"
      ]
    },
    {
      "cell_type": "code",
      "metadata": {
        "id": "ybRjH9ZXyehJ"
      },
      "source": [
        "import os\n",
        "import pandas as pd\n",
        "from torchvision.datasets.folder import default_loader\n",
        "from torchvision.datasets.utils import download_url\n",
        "from torch.utils.data import Dataset\n",
        "\n",
        "\n",
        "class Cub2011(Dataset):\n",
        "    base_folder = 'CUB_200_2011/images'\n",
        "    url = 'http://www.vision.caltech.edu/visipedia-data/CUB-200-2011/CUB_200_2011.tgz'\n",
        "    filename = 'CUB_200_2011.tgz'\n",
        "    tgz_md5 = '97eceeb196236b17998738112f37df78'\n",
        "\n",
        "    def __init__(self, root, train=True, loader=default_loader, download=False):\n",
        "        self.root = os.path.expanduser(root)\n",
        "        self.transform = transforms.Compose([transforms.Resize(255), \n",
        "                                       transforms.CenterCrop(224),  \n",
        "                                       transforms.RandomHorizontalFlip(),\n",
        "                                       transforms.ToTensor(), \n",
        "                                       transforms.Normalize([0.485, 0.456, 0.406], [0.229, 0.224, 0.225])]) \n",
        "        self.loader = default_loader\n",
        "        self.train = train\n",
        "        self._load_metadata()\n",
        "\n",
        "    def _load_metadata(self):\n",
        "        images = pd.read_csv(os.path.join(self.root, 'CUB_200_2011', 'images.txt'), sep=' ',\n",
        "                             names=['img_id', 'filepath'])\n",
        "        image_class_labels = pd.read_csv(os.path.join(self.root, 'CUB_200_2011', 'image_class_labels.txt'),\n",
        "                                         sep=' ', names=['img_id', 'target'])\n",
        "        train_test_split = pd.read_csv(os.path.join(self.root, 'CUB_200_2011', 'train_test_split.txt'),\n",
        "                                       sep=' ', names=['img_id', 'is_training_img']) \n",
        "\n",
        "        data = images.merge(image_class_labels, on='img_id')\n",
        "\n",
        "        self.data = data.merge(train_test_split, on='img_id')\n",
        "\n",
        "        if self.train:\n",
        "            self.data = self.data[self.data.is_training_img == 1]\n",
        "        else:\n",
        "            self.data = self.data[self.data.is_training_img == 0]\n",
        "\n",
        "    def __len__(self):\n",
        "        return len(self.data)\n",
        "\n",
        "    def __getitem__(self, idx):\n",
        "        sample = self.data.iloc[idx]\n",
        "        path = os.path.join(self.root, self.base_folder, sample.filepath)\n",
        "        target = sample.target - 1  # Targets start at 1 by default, so shift to 0\n",
        "        img = self.loader(path)\n",
        "\n",
        "        if self.transform is not None:\n",
        "            img = self.transform(img)\n",
        "\n",
        "        return img, target"
      ],
      "execution_count": null,
      "outputs": []
    },
    {
      "cell_type": "code",
      "metadata": {
        "id": "mb-4bc0xcZSd"
      },
      "source": [
        "train_dataset = Cub2011('/gdrive/My Drive',train = True)\n",
        "test_dataset  = Cub2011('/gdrive/My Drive',train = False)"
      ],
      "execution_count": null,
      "outputs": []
    },
    {
      "cell_type": "code",
      "metadata": {
        "id": "mJNjVcB-nR3e"
      },
      "source": [
        "len(train_dataset)"
      ],
      "execution_count": null,
      "outputs": []
    },
    {
      "cell_type": "code",
      "metadata": {
        "id": "3LDoo3C3dbMj"
      },
      "source": [
        "train_loader = torch.utils.data.DataLoader(train_dataset,batch_size=28)\n",
        "batch = next(iter(train_loader))"
      ],
      "execution_count": null,
      "outputs": []
    },
    {
      "cell_type": "code",
      "metadata": {
        "id": "qbLAX-5WDiI7"
      },
      "source": [
        "test_loader = torch.utils.data.DataLoader(test_dataset,batch_size = 28)\n"
      ],
      "execution_count": null,
      "outputs": []
    },
    {
      "cell_type": "code",
      "metadata": {
        "id": "bEO0UhHugOMd"
      },
      "source": [
        "batch[0].size()"
      ],
      "execution_count": null,
      "outputs": []
    },
    {
      "cell_type": "markdown",
      "metadata": {
        "id": "f_Zty2QmQsHJ"
      },
      "source": [
        "## Net"
      ]
    },
    {
      "cell_type": "code",
      "metadata": {
        "id": "vYtP4UxWoe58"
      },
      "source": [
        "class Encoder(nn.Module):\n",
        "    \"\"\"\n",
        "    Encoder.\n",
        "    \"\"\"\n",
        "\n",
        "    def __init__(self, encoded_image_size=14):\n",
        "        super(Encoder, self).__init__()\n",
        "        self.enc_image_size = encoded_image_size\n",
        "\n",
        "        resnet = torchvision.models.resnet101(pretrained=True)  # pretrained ImageNet ResNet-101\n",
        "        print(resnet)\n",
        "        # Remove linear and pool layers (since we're not doing classification)\n",
        "        modules = list(resnet.children())[:-2]\n",
        "        self.resnet = nn.Sequential(*modules)\n",
        "        modules1 = list(resnet.children())[:-4]\n",
        "        self.resnet1 = nn.Sequential(*modules1)\n",
        "\n",
        "        #self.drop1 = nn.Dropout2d(p=0.5)\n",
        "        #self.conv1d = nn.Conv2d(2048,1024, (1,1), stride=1)\n",
        "        self.conv1d = nn.Conv2d(2048,256, 1, stride=1,dilation = 1,padding =0)\n",
        "        self.conv1d_1 = nn.Conv2d(2048,256, 1, stride=1,dilation = 1,padding = 0)\n",
        "        self.conv1d_2 = nn.Conv2d(2048,256, 1, stride=1,dilation = 1,padding = 0)  # all above 3 are same?\n",
        "\n",
        "        self.conv2d_1 = nn.Conv2d(256,256, 3, stride=1,dilation = 1,padding = 1)\n",
        "        self.conv2d_2 = nn.Conv2d(256,256, 5, stride=1,dilation = 1,padding = 2)\n",
        "        self.conv2d_3 = nn.Conv2d(256,256, 1, stride=1,dilation = 1,padding = 0)\n",
        "\n",
        "        self.global_avg_pool = nn.Sequential(nn.AdaptiveAvgPool2d((7,7)),nn.Conv2d(2048, 256,1,stride=1,dilation = 1,padding =0),nn.BatchNorm2d(256),nn.ReLU())\n",
        "        ## converted (8,8)->(7,7)\n",
        "\n",
        "        self.drop2 = nn.Dropout2d(p=0.3)\n",
        "\n",
        "        self.conv1_2d = nn.Conv2d(1024,512,1 , stride=1,dilation = 1,padding =0)\n",
        "        self.bn1 = nn.BatchNorm2d(1024)\n",
        "        self.relu = nn.ReLU()\n",
        "\n",
        "        self.drop3 = nn.Dropout2d(p=0.5)\n",
        "\n",
        "        self.conv2_1d = nn.Conv2d(512,512, 1, stride=1,dilation = 1,padding =0)\n",
        "        self.conv2_2d = nn.Conv2d(1024,512, 3, stride=1,dilation = 1,padding =1)\n",
        "        self.classifier = nn.Sequential(\n",
        "            nn.Linear(401408, 200)\n",
        "        )\n",
        "\n",
        "        # Resize image to fixed size to allow input images of variable size\n",
        "        #self.adaptive_pool = nn.AdaptiveAvgPool2d((encoded_image_size, encoded_image_size))\n",
        "\n",
        "        self.fine_tune()\n",
        "\n",
        "    def forward(self, images):\n",
        "        \"\"\"\n",
        "        Forward propagation.\n",
        "        :param images: images, a tensor of dimensions (batch_size, 3, image_size, image_size)\n",
        "        :return: encoded images\n",
        "\n",
        "        \"\"\"\n",
        "        out = self.resnet(images)  # (batch_size, 2048, image_size/32, image_size/32)\n",
        "        out1 = self.resnet1(images)\n",
        "        # print(\"out size = \",out.shape)  # (batch_size, 2048, image_size/32, image_size/32)  \n",
        "        # print(out1.shape)\n",
        "        #out = F.interpolate(out, size=32, mode='bilinear', align_corners=True)\n",
        "        #x = torch.cat((out, out1), dim=-3)\n",
        "\n",
        "        #out = self.adaptive_pool(out)  # (batch_size, 2048, encoded_image_size, encoded_image_size)\n",
        "        x_1 = self.conv1d(out)\n",
        "        x_2 = self.conv1d_1(out)\n",
        "        x_3 = self.conv1d_2(out)\n",
        "\n",
        "        x_2_1 = self.conv2d_1(x_2)\n",
        "        x_3_1 = self.conv2d_2(x_3)\n",
        "        # print(x_1.shape, x_2.shape, x_3.shape)\n",
        "        #x_4 = self.conv1d_3(out)\n",
        "\n",
        "        x_5 = self.global_avg_pool(out)\n",
        "        # print(\"shape of x_5 = \",x_5.shape)\n",
        "        x_5_1 = self.conv2d_3(x_5)\n",
        "        #x_6 = F.interpolate(x_5, size=8, mode='bilinear', align_corners=True)\n",
        "\n",
        "        # print(x_1.shape,x_2_1.shape,x_3_1.shape,x_5_1.shape)\n",
        "        x_6 = torch.cat((x_1, x_2_1, x_3_1, x_5_1), dim=-3)\n",
        "        # print(\"shape of x_6 = \",x_6.shape)\n",
        "        x_7 = self.conv1_2d(x_6)\n",
        "        # print(\"shape of x_7 = \",x_7.shape)\n",
        "        x_8 = F.interpolate(x_7, size=28, mode='bilinear', align_corners=True) ## changed from 32 to 28\n",
        "        #print(x_7.shape)   \n",
        "        # print(\"shape of x_8 = \",x_8.shape)\n",
        "        x_9 = self.conv2_1d(out1)\n",
        "        # print(\"shape of x_9 = \",x_9.shape)\n",
        "        y = torch.cat((x_8, x_9), dim=-3)   \n",
        "        #print(out.shape, x_1.shape, x_2.shape, x_3.shape,x_5.shape, x_5_1.shape, x_6.shape,x_8.shape, x_9.shape,y.shape)  \n",
        "        #y = self.drop2(z)\n",
        "        #y = self.conv1_2d(y)\n",
        "        y = self.bn1(y)\n",
        "        y = self.relu(y)\n",
        "        y = self.drop3(y)\n",
        "        y = self.conv2_2d(y)\n",
        "        #print(out.shape, out1.shape, x_6.shape,x_8.shape, x_9.shape,y.shape)\n",
        "        # print(\"y shape before = \",y.shape)\n",
        "        y = y.permute(0, 2, 3, 1)  # (batch_size, encoded_image_size, encoded_image_size, 2048)\n",
        "        # print(\"shape of y after =\",y.shape)\n",
        "        y = y.contiguous()\n",
        "        y = y.view(y.size(0), -1)\n",
        "        y = self.classifier(y)\n",
        "        # n_inputs = self.fc.in_features\n",
        "        #print (y.shape)\n",
        "        return y\n",
        "    def fine_tune(self, fine_tune=True):\n",
        "        \"\"\"\n",
        "        Allow or prevent the computation of gradients for convolutional blocks 2 through 4 of the encoder.\n",
        "\n",
        "        :param fine_tune: Allow?\n",
        "        \"\"\"\n",
        "        for p in self.resnet.parameters():\n",
        "            p.requires_grad = False\n",
        "        # If fine-tuning, only fine-tune convolutional blocks 2 through 4\n",
        "        for c in list(self.resnet.children())[5:]:\n",
        "            for p in c.parameters():\n",
        "                p.requires_grad = fine_tune\n",
        "\n"
      ],
      "execution_count": null,
      "outputs": []
    },
    {
      "cell_type": "code",
      "metadata": {
        "id": "EdBhejKOa0d8"
      },
      "source": [
        "net = Encoder()"
      ],
      "execution_count": null,
      "outputs": []
    },
    {
      "cell_type": "markdown",
      "metadata": {
        "id": "rZwuqi3GQzHp"
      },
      "source": [
        "# Training"
      ]
    },
    {
      "cell_type": "code",
      "metadata": {
        "id": "IPJZvSbNsHK_"
      },
      "source": [
        "@torch.no_grad()\n",
        "def get_all_preds(model, loader):\n",
        "    all_preds = torch.tensor([])\n",
        "    for batch in loader:\n",
        "        images, labels = batch\n",
        "\n",
        "        preds = model(images)\n",
        "        all_preds = torch.cat(\n",
        "            (all_preds, preds)\n",
        "            ,dim=0\n",
        "        )\n",
        "    return all_preds"
      ],
      "execution_count": null,
      "outputs": []
    },
    {
      "cell_type": "code",
      "metadata": {
        "id": "558Fq6mR98Y2"
      },
      "source": [
        "import torch.optim as optim\n",
        "\n",
        "criterion = nn.CrossEntropyLoss()\n",
        "optimizer = optim.SGD(net.parameters(), lr=0.001, momentum=0.9)"
      ],
      "execution_count": null,
      "outputs": []
    },
    {
      "cell_type": "code",
      "metadata": {
        "id": "ac1NK6aQ-YfA"
      },
      "source": [
        "for epoch in range(2):\n",
        "  running_loss = 0.0\n",
        "  j=0\n",
        "  for i,data in enumerate(train_loader,0):\n",
        "    images,labels = data\n",
        "    print(j)\n",
        "    j = j+1\n",
        "    preds = net(images)\n",
        "    # labels=labels.unsqueeze(dim=0)\n",
        "    optimizer.zero_grad()\n",
        "    # print(\"shape of preds\",preds.size())\n",
        "    # print(\"labels size\",labels.size())\n",
        "    # print(labels)\n",
        "    loss = criterion(preds,labels)\n",
        "    loss.backward()\n",
        "    optimizer.step()\n",
        "\n",
        "    running_loss += loss.item()\n",
        "    if(i%2000 ==1999):\n",
        "      print(\"xyz\")\n",
        "print(\"done\")\n",
        "\n"
      ],
      "execution_count": null,
      "outputs": []
    },
    {
      "cell_type": "markdown",
      "metadata": {
        "id": "EyQkYT2sEeI7"
      },
      "source": [
        "# Testing"
      ]
    },
    {
      "cell_type": "code",
      "metadata": {
        "id": "TT7YUJEgEdw5"
      },
      "source": [
        "dataiter = iter(testloader)\n",
        "images, labels = dataiter.next()"
      ],
      "execution_count": null,
      "outputs": []
    },
    {
      "cell_type": "code",
      "metadata": {
        "id": "nxUafXMJEntB"
      },
      "source": [
        "outputs = net(images)"
      ],
      "execution_count": null,
      "outputs": []
    },
    {
      "cell_type": "code",
      "metadata": {
        "id": "4eAL20xaEsGV"
      },
      "source": [
        "_, predicted = torch.max(outputs, 1)\n",
        "\n",
        "print('Predicted: ', ' '.join('%5s' % classes[predicted[j]]\n",
        "                              for j in range(4)))"
      ],
      "execution_count": null,
      "outputs": []
    },
    {
      "cell_type": "code",
      "metadata": {
        "id": "JAw6WdFyEznp"
      },
      "source": [
        "correct = 0\n",
        "total = 0\n",
        "with torch.no_grad():\n",
        "    for data in testloader:\n",
        "        images, labels = data\n",
        "        outputs = net(images)\n",
        "        _, predicted = torch.max(outputs.data, 1)\n",
        "        total += labels.size(0)\n",
        "        correct += (predicted == labels).sum().item()\n",
        "\n",
        "print('Accuracy of the network on the 10000 test images: %d %%' % (\n",
        "    100 * correct / total))"
      ],
      "execution_count": null,
      "outputs": []
    },
    {
      "cell_type": "code",
      "metadata": {
        "id": "8KTIbf-eq4NX"
      },
      "source": [
        "preds"
      ],
      "execution_count": null,
      "outputs": []
    }
  ]
}